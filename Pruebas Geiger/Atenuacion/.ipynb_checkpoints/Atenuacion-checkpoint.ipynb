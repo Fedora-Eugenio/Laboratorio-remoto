{
 "cells": [
  {
   "cell_type": "code",
   "execution_count": 1,
   "metadata": {},
   "outputs": [],
   "source": [
    "import numpy as np\n",
    "%matplotlib inline\n",
    "import matplotlib.pyplot as plt\n",
    "import pandas as pd\n",
    "import scipy.fftpack"
   ]
  },
  {
   "cell_type": "code",
   "execution_count": null,
   "metadata": {},
   "outputs": [],
   "source": [
    "Alwidths = [0, 0.8, 1.6, 3.2]\n",
    "Pbwidths = [0, 45, 935, 2550]\n",
    "\n",
    "Alfolder = ['p0_SinObstaculo', 'p6_Al_45mm', 'p4_Al_935mm', 'p1_Al_2550mm']\n",
    "Pbfolder = ['p0_SinObstaculo', 'p2_Pb_0-8mm', 'p7_Pb_1-6mm', 'p5_Pb_3-2mm']\n",
    "\n",
    "W_Al = np.array(Alwidths)\n",
    "W_Pb = np.array(Pbwidhts)\n",
    "\n",
    "V_Al = np.array([])\n",
    "V_Pb = np.array([])\n",
    "\n",
    "Vstd_Al = np.array([])\n",
    "Vstd_Pb = np.array([])\n",
    "\n",
    "C_Al = np.array([])\n",
    "C_Pb = np.array([])\n",
    "\n",
    "Cstd_Al = np.array([])\n",
    "Cstd_Pb = np.array([])\n",
    "\n",
    "for i in range(6):\n",
    "    df=pd.read_csv(str(distances[i])+'mm/anag1.csv', header=None, squeeze = True)\n",
    "    V = np.append(V,np.mean(df[1:])*5/4095)\n",
    "        \n",
    "    V_10s=[np.mean(df[1:10000])]\n",
    "    \n",
    "    for j in range(29):\n",
    "        V_10s.append(np.mean(df[10000*(j+1):10000*(j+2)]))\n",
    "    \n",
    "    Vstd10 = np.append(Vstd10,np.std(V_10s)*5/4095)\n",
    "\n",
    "    df=pd.read_csv(str(distances[i])+'mm/anag2.csv', header=None, squeeze = True)\n",
    "\n",
    "    Caux = [np.sum(df[1:1000])]\n",
    "\n",
    "    for j in range(299):\n",
    "        Caux.append(np.sum(df[1000*(j+1):1000*(j+2)]))\n",
    "\n",
    "    C = np.append(C,np.mean(Caux))\n",
    "    \n",
    "    Caux10 = []\n",
    "    \n",
    "    for j in range(30):\n",
    "        Caux10.append(np.mean(Caux[10*j:10*(j+1)]))\n",
    "        \n",
    "    Cstd10 = np.append(Cstd10,np.std(Caux10))"
   ]
  }
 ],
 "metadata": {
  "kernelspec": {
   "display_name": "Python 3",
   "language": "python",
   "name": "python3"
  },
  "language_info": {
   "codemirror_mode": {
    "name": "ipython",
    "version": 3
   },
   "file_extension": ".py",
   "mimetype": "text/x-python",
   "name": "python",
   "nbconvert_exporter": "python",
   "pygments_lexer": "ipython3",
   "version": "3.5.2"
  }
 },
 "nbformat": 4,
 "nbformat_minor": 2
}
